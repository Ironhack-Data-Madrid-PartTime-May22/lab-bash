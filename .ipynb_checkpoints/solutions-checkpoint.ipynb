{
 "cells": [
  {
   "cell_type": "markdown",
   "metadata": {},
   "source": [
    "### EJERCICIOS"
   ]
  },
  {
   "cell_type": "markdown",
   "metadata": {},
   "source": [
    "#### Imprime en consola Hello World."
   ]
  },
  {
   "cell_type": "markdown",
   "metadata": {},
   "source": [
    "echo 'Hello World'"
   ]
  },
  {
   "cell_type": "markdown",
   "metadata": {},
   "source": [
    "#### Crea un directorio nuevo llamado new_dir."
   ]
  },
  {
   "cell_type": "markdown",
   "metadata": {},
   "source": [
    "mkdir new_dir"
   ]
  },
  {
   "cell_type": "markdown",
   "metadata": {},
   "source": [
    "#### Elimina ese directorio."
   ]
  },
  {
   "cell_type": "markdown",
   "metadata": {},
   "source": [
    "rm -r new_dir"
   ]
  },
  {
   "cell_type": "markdown",
   "metadata": {},
   "source": [
    "#### Imprime en consola Hello World."
   ]
  },
  {
   "cell_type": "markdown",
   "metadata": {},
   "source": [
    "echo 'Hello World'"
   ]
  },
  {
   "cell_type": "markdown",
   "metadata": {},
   "source": [
    "#### Crea un directorio nuevo llamado new_dir."
   ]
  },
  {
   "cell_type": "markdown",
   "metadata": {},
   "source": [
    "mkdir new_dir"
   ]
  },
  {
   "cell_type": "markdown",
   "metadata": {},
   "source": [
    "#### Elimina ese directorio."
   ]
  },
  {
   "cell_type": "markdown",
   "metadata": {},
   "source": [
    "rm -r new_dir"
   ]
  },
  {
   "cell_type": "markdown",
   "metadata": {},
   "source": [
    "\n",
    "#### Copia el archivo sed.txt dentro de la carpeta lorem a la carpeta lorem-copy.\n"
   ]
  },
  {
   "cell_type": "markdown",
   "metadata": {},
   "source": [
    "cp lorem/sed.txt lorem-copy"
   ]
  },
  {
   "cell_type": "markdown",
   "metadata": {},
   "source": [
    "#### Copia los otros dos archivos de la carpeta lorem a la carpeta lorem-copy en una sola línea mediante ;."
   ]
  },
  {
   "cell_type": "markdown",
   "metadata": {},
   "source": [
    "cp lorem/at.txt;lorem/lorem.txt lorem-copy"
   ]
  },
  {
   "cell_type": "markdown",
   "metadata": {},
   "source": [
    "#### Muestra el contenido del archivo sed.txt dentro de la carpeta lorem."
   ]
  },
  {
   "cell_type": "markdown",
   "metadata": {},
   "source": [
    "cat lorem/sed.txt"
   ]
  },
  {
   "cell_type": "markdown",
   "metadata": {},
   "source": [
    "#### Muestra el contenido de los archivos at.txt y lorem.txt dentro de la carpeta lorem."
   ]
  },
  {
   "cell_type": "markdown",
   "metadata": {},
   "source": [
    "cat lorem/at.txt | cat lorem/lorem.txt"
   ]
  },
  {
   "cell_type": "markdown",
   "metadata": {},
   "source": [
    "#### Visualiza las primeras 3 líneas del archivo sed.txt dentro de la carpeta lorem-copy"
   ]
  },
  {
   "cell_type": "markdown",
   "metadata": {},
   "source": [
    "head -3 lorem-copy/sed.txt"
   ]
  },
  {
   "cell_type": "markdown",
   "metadata": {},
   "source": [
    "#### Visualiza las ultimas 3 líneas del archivo sed.txt dentro de la carpeta lorem-copy"
   ]
  },
  {
   "cell_type": "markdown",
   "metadata": {},
   "source": [
    "tail -3 lorem-copy/sed.txt"
   ]
  },
  {
   "cell_type": "markdown",
   "metadata": {},
   "source": [
    "#### Añade Homo homini lupus. al final de archivo sed.txt dentro de la carpeta lorem-copy."
   ]
  },
  {
   "cell_type": "markdown",
   "metadata": {},
   "source": [
    "echo Homo homini lupus >> lorem-copy/sed.txt"
   ]
  },
  {
   "cell_type": "markdown",
   "metadata": {},
   "source": [
    "#### Visualiza las últimas 3 líneas del archivo sed.txt dentro de la carpeta lorem-copy. Deberías ver ahora Homo homini lupus"
   ]
  },
  {
   "cell_type": "markdown",
   "metadata": {},
   "source": [
    "tail -3 lorem-copy/sed.txt"
   ]
  },
  {
   "cell_type": "markdown",
   "metadata": {},
   "source": [
    "#### Sustituye todas las apariciones de et por ET del archivo at.txt dentro de la carpeta lorem-copy. Deberás usar sed."
   ]
  },
  {
   "cell_type": "markdown",
   "metadata": {},
   "source": [
    "sed 's/et/ET/' lorem-copy/at.txt"
   ]
  },
  {
   "cell_type": "markdown",
   "metadata": {},
   "source": [
    "#### Encuentra al usuario activo en el sistema."
   ]
  },
  {
   "cell_type": "markdown",
   "metadata": {},
   "source": [
    "whoami"
   ]
  },
  {
   "cell_type": "markdown",
   "metadata": {},
   "source": [
    "#### Encuentra dónde estás en tu sistema de ficheros."
   ]
  },
  {
   "cell_type": "markdown",
   "metadata": {},
   "source": [
    "pwd"
   ]
  },
  {
   "cell_type": "markdown",
   "metadata": {},
   "source": [
    "#### Lista los archivos que terminan por .txt en la carpeta lorem."
   ]
  },
  {
   "cell_type": "markdown",
   "metadata": {},
   "source": [
    "find lorem/ -name '*.txt'"
   ]
  },
  {
   "cell_type": "markdown",
   "metadata": {},
   "source": [
    "#### Cuenta el número de líneas que tiene el archivo sed.txt dentro de la carpeta lorem."
   ]
  },
  {
   "cell_type": "markdown",
   "metadata": {},
   "source": [
    "wc -l lorem/sed.txt "
   ]
  },
  {
   "cell_type": "markdown",
   "metadata": {},
   "source": [
    "#### Cuenta el número de archivos que empiezan por lorem que están en este directorio y en directorios internos."
   ]
  },
  {
   "cell_type": "markdown",
   "metadata": {},
   "source": [
    "ls lorem* | wc -l"
   ]
  },
  {
   "cell_type": "markdown",
   "metadata": {},
   "source": [
    "#### Encuentra todas las apariciones de et en at.txt dentro de la carpeta lorem."
   ]
  },
  {
   "cell_type": "markdown",
   "metadata": {},
   "source": [
    "grep -o et lorem/at.txt"
   ]
  },
  {
   "cell_type": "markdown",
   "metadata": {},
   "source": [
    "#### Cuenta el número de apariciones del string et en at.txt dentro de la carpeta lorem."
   ]
  },
  {
   "cell_type": "markdown",
   "metadata": {},
   "source": [
    "grep -o et lorem/at.txt | wc -l"
   ]
  },
  {
   "cell_type": "markdown",
   "metadata": {},
   "source": [
    "#### Cuenta el número de apariciones del string et en todos los archivos del directorio lorem-copy."
   ]
  },
  {
   "cell_type": "markdown",
   "metadata": {},
   "source": [
    "grep -o et lorem-copy/* | wc -l"
   ]
  },
  {
   "cell_type": "markdown",
   "metadata": {},
   "source": [
    "### BONUS"
   ]
  },
  {
   "cell_type": "markdown",
   "metadata": {},
   "source": []
  },
  {
   "cell_type": "markdown",
   "metadata": {},
   "source": [
    "#### Almacena en una variable name tu nombre."
   ]
  },
  {
   "cell_type": "markdown",
   "metadata": {},
   "source": [
    "STR='juan'"
   ]
  },
  {
   "cell_type": "markdown",
   "metadata": {},
   "source": [
    "#### Imprime esa variable."
   ]
  },
  {
   "cell_type": "markdown",
   "metadata": {},
   "source": [
    "echo $STR"
   ]
  },
  {
   "cell_type": "markdown",
   "metadata": {},
   "source": [
    "#### Crea un directorio nuevo que se llame como el contenido de la variable name."
   ]
  },
  {
   "cell_type": "markdown",
   "metadata": {},
   "source": [
    "mkdir $STR"
   ]
  },
  {
   "cell_type": "markdown",
   "metadata": {},
   "source": [
    "#### Elimina ese directorio."
   ]
  },
  {
   "cell_type": "markdown",
   "metadata": {},
   "source": [
    "rm -r new_dir $STR"
   ]
  },
  {
   "cell_type": "markdown",
   "metadata": {},
   "source": [
    "#### Por cada archivo dentro de la carpeta lorem imprime el número de carácteres que tienen sus nombres. Intenta primero mostrar los archivos mediante un bucle for:\n",
    "\n",
    "- Imprime los ficheros\n",
    "- Imprime las longitudes de los nombres de los ficheros\n",
    "- Imprime outputs con la siguiente estructura: lorem has 5 characters lenght"
   ]
  },
  {
   "cell_type": "markdown",
   "metadata": {},
   "source": []
  },
  {
   "cell_type": "markdown",
   "metadata": {},
   "source": [
    "#### Muestra los procesos de forma jerárquica que se están ejecutando en tu ordenador:\n",
    "\n",
    "- Usando el comando top o htop\n",
    "- Usando el comando ps con argumentos"
   ]
  },
  {
   "cell_type": "markdown",
   "metadata": {},
   "source": [
    "top"
   ]
  },
  {
   "cell_type": "markdown",
   "metadata": {},
   "source": [
    "#### Muestra información sobre tu procesador por pantalla"
   ]
  },
  {
   "cell_type": "markdown",
   "metadata": {},
   "source": [
    "sysctl -a | grep brand"
   ]
  },
  {
   "cell_type": "markdown",
   "metadata": {},
   "source": [
    "#### Crea 3 alias y haz que estén disponibles cada vez que inicias sesión"
   ]
  },
  {
   "cell_type": "markdown",
   "metadata": {},
   "source": [
    "alias jupy=\"jupyter notebook\"\n",
    "alias wip=\"cd Desktop/data/labs/\"\n",
    "alias mantra=\"git add . | git commit | git push origin main\""
   ]
  },
  {
   "cell_type": "markdown",
   "metadata": {},
   "source": [
    "#### Comprime las carpetas lorem y lorem-copy en un archivo llamado lorem-compressed.tar.gz"
   ]
  },
  {
   "cell_type": "markdown",
   "metadata": {},
   "source": [
    "tar cfz lorem-compressed.tar.gz lorem lorem-copy"
   ]
  },
  {
   "cell_type": "markdown",
   "metadata": {},
   "source": [
    "#### Descomprime el archivo lorem-compressed.tar.gz en la carpeta lorem-uncompressed"
   ]
  },
  {
   "cell_type": "markdown",
   "metadata": {},
   "source": [
    ":("
   ]
  },
  {
   "cell_type": "markdown",
   "metadata": {},
   "source": [
    "#### Descomprime el archivo lorem-compressed.tar.gz en la carpeta lorem-uncompressed"
   ]
  },
  {
   "cell_type": "markdown",
   "metadata": {},
   "source": [
    ":(("
   ]
  }
 ],
 "metadata": {
  "kernelspec": {
   "display_name": "Python 3 (ipykernel)",
   "language": "python",
   "name": "python3"
  },
  "language_info": {
   "codemirror_mode": {
    "name": "ipython",
    "version": 3
   },
   "file_extension": ".py",
   "mimetype": "text/x-python",
   "name": "python",
   "nbconvert_exporter": "python",
   "pygments_lexer": "ipython3",
   "version": "3.10.9"
  },
  "toc": {
   "base_numbering": 1,
   "nav_menu": {},
   "number_sections": true,
   "sideBar": true,
   "skip_h1_title": true,
   "title_cell": "Table of Contents",
   "title_sidebar": "Contents",
   "toc_cell": false,
   "toc_position": {},
   "toc_section_display": true,
   "toc_window_display": false
  }
 },
 "nbformat": 4,
 "nbformat_minor": 4
}
